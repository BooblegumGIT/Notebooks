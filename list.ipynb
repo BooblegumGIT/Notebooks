{
  "nbformat": 4,
  "nbformat_minor": 0,
  "metadata": {
    "colab": {
      "name": "list.ipynb",
      "provenance": [],
      "include_colab_link": true
    },
    "kernelspec": {
      "name": "python3",
      "display_name": "Python 3"
    },
    "language_info": {
      "name": "python"
    }
  },
  "cells": [
    {
      "cell_type": "markdown",
      "metadata": {
        "id": "view-in-github",
        "colab_type": "text"
      },
      "source": [
        "<a href=\"https://colab.research.google.com/github/BooblegumGIT/Notebooks/blob/main/list.ipynb\" target=\"_parent\"><img src=\"https://colab.research.google.com/assets/colab-badge.svg\" alt=\"Open In Colab\"/></a>"
      ]
    },
    {
      "cell_type": "markdown",
      "source": [
        "# Списки\n",
        "\n",
        "**Список** - изменяемая последовательность, элементами которой могут быть любые типы данных"
      ],
      "metadata": {
        "id": "_CKBdEX5golx"
      }
    },
    {
      "cell_type": "markdown",
      "source": [
        "## Создание списков\n"
      ],
      "metadata": {
        "id": "yO_QbZvahDNo"
      }
    },
    {
      "cell_type": "code",
      "execution_count": null,
      "metadata": {
        "id": "xDoLL3eogndX"
      },
      "outputs": [],
      "source": [
        "empty_list = []  # Пустой писок\n",
        "numbers = [2, 4, 6, 0, 12]  # список с int'ами\n",
        "names = [\"Иван\", \"Алексей\", \"Анна\"]  # список строк\n",
        "any_types = [-4, 2.5, \"hello\", \"12\", 0]  # список с произвольными значениями"
      ]
    },
    {
      "cell_type": "markdown",
      "source": [
        "Встроенная функция len() позволяет узнать количество элементов в списке."
      ],
      "metadata": {
        "id": "0EJA3DrC3Yt2"
      }
    },
    {
      "cell_type": "code",
      "source": [
        "numbers = [2, 4, 6, 0, 12]\n",
        "print(f\"В списке {numbers} {len(numbers)} элементов\")"
      ],
      "metadata": {
        "colab": {
          "base_uri": "https://localhost:8080/"
        },
        "id": "FW1a7tVm3hJ-",
        "outputId": "9e65ce14-6f31-43be-e720-4db080ccbacb"
      },
      "execution_count": null,
      "outputs": [
        {
          "output_type": "stream",
          "name": "stdout",
          "text": [
            "В списке [2, 4, 6, 0, 12] 5 элементов\n"
          ]
        }
      ]
    },
    {
      "cell_type": "markdown",
      "source": [
        "## Обращение к элементам по индексам"
      ],
      "metadata": {
        "id": "L2wGUCmbmfX0"
      }
    },
    {
      "cell_type": "markdown",
      "source": [
        "Все элементы имеют порядковые номера - индексы. Индексация начинается с нуля\n",
        "\n",
        "![list01.png](https://gcdnb.pbrd.co/images/p4ppjILZq7u4.png?o=1)"
      ],
      "metadata": {
        "id": "_xWCG5XriBJN"
      }
    },
    {
      "cell_type": "code",
      "source": [
        "# indedex:   0        1         2      3\n",
        "names =  [\"Иван\", \"Алексей\", \"Анна\", \"Петр\"]\n",
        "# n-index:  -4       -3        -2     -1\n",
        "print(\"names[0] -->\", names[0])\n",
        "print(\"names[2] -->\", names[2])\n",
        "print(\"names[-4] -->\", names[-4])"
      ],
      "metadata": {
        "id": "I2F9k4S0iEAB",
        "colab": {
          "base_uri": "https://localhost:8080/"
        },
        "outputId": "ea020383-58d4-44e0-a053-1c30bd78623f"
      },
      "execution_count": null,
      "outputs": [
        {
          "output_type": "stream",
          "name": "stdout",
          "text": [
            "names[0] --> Иван\n",
            "names[2] --> Анна\n",
            "names[-4] --> Иван\n"
          ]
        }
      ]
    },
    {
      "cell_type": "markdown",
      "source": [
        "### Задание"
      ],
      "metadata": {
        "id": "kG0hO_nqnZZc"
      }
    },
    {
      "cell_type": "code",
      "source": [
        "fruits = [\"яблоко\", \"банан\", \"апельсин\", \"арбуз\", \"киви\"]\n",
        "# TODO: Выведите первый и последний элемент списка\n",
        "..."
      ],
      "metadata": {
        "id": "kr2l6NMVnuQ7"
      },
      "execution_count": null,
      "outputs": []
    },
    {
      "cell_type": "markdown",
      "source": [
        "## Изменение элементов по индексам"
      ],
      "metadata": {
        "id": "LvorPIdAxcJy"
      }
    },
    {
      "cell_type": "markdown",
      "source": [
        "Т.к. список **изменяемая** последовательность, элементы списка можно заменять на другие"
      ],
      "metadata": {
        "id": "uj9vUUIMxhu1"
      }
    },
    {
      "cell_type": "code",
      "source": [
        "names =  [\"Иван\", \"Алексей\", \"Анна\", \"Петр\"]\n",
        "print(\"До изменения \\t\", names)\n",
        "names[1] = \"Кирилл\"  # Заменяем элемент с индексом 1\n",
        "print(\"После изменения \", names)"
      ],
      "metadata": {
        "colab": {
          "base_uri": "https://localhost:8080/"
        },
        "id": "j7K7Aztcxp2Z",
        "outputId": "d419141e-fb97-47fd-f1c1-bd9f7f3ee41d"
      },
      "execution_count": null,
      "outputs": [
        {
          "output_type": "stream",
          "name": "stdout",
          "text": [
            "До изменения \t ['Иван', 'Алексей', 'Анна', 'Петр']\n",
            "После изменения  ['Иван', 'Кирилл', 'Анна', 'Петр']\n"
          ]
        }
      ]
    },
    {
      "cell_type": "markdown",
      "source": [
        "### Задание\n",
        "\n"
      ],
      "metadata": {
        "id": "KXs4fRqxyYMp"
      }
    },
    {
      "cell_type": "code",
      "source": [
        "names =  [\"Иван\", \"Алексей\", \"Анна\", \"Петр\"]\n",
        "# TODO: поменяйте первый и последний элемент списка местами\n",
        "print(names[0])\n",
        "print(names[3])"
      ],
      "metadata": {
        "id": "m5l65eWJyhKP",
        "outputId": "4430b85a-9357-4a45-badc-e7eeb28fb0f8",
        "colab": {
          "base_uri": "https://localhost:8080/"
        }
      },
      "execution_count": 1,
      "outputs": [
        {
          "output_type": "stream",
          "name": "stdout",
          "text": [
            "Иван\n",
            "Петр\n"
          ]
        }
      ]
    },
    {
      "cell_type": "markdown",
      "source": [
        "## Срезы"
      ],
      "metadata": {
        "id": "4xM5j9nau0dZ"
      }
    },
    {
      "cell_type": "markdown",
      "source": [
        "К спискам, как и к строкам, можно применять срезы. \\\n",
        "Срез возвращает новый список из элементов исходного."
      ],
      "metadata": {
        "id": "infvxcyVvahO"
      }
    },
    {
      "cell_type": "code",
      "source": [
        "# index:   0  1  2  3  4  5  6\n",
        "numbers = [3, 4, 6, 8, 0, 5, 7]\n",
        "\n",
        "print(\"numbers[2:5] -->\", numbers[2:5])"
      ],
      "metadata": {
        "colab": {
          "base_uri": "https://localhost:8080/"
        },
        "id": "MCMCDAlyvZ_o",
        "outputId": "0462b1b6-c0bc-41b2-bd91-86106b17ad85"
      },
      "execution_count": null,
      "outputs": [
        {
          "output_type": "stream",
          "name": "stdout",
          "text": [
            "numbers[2:5] --> [6, 8, 0]\n"
          ]
        }
      ]
    },
    {
      "cell_type": "markdown",
      "source": [
        "Как и со строками, можно применять шаг среза и опускать начальный или конечный индекс среза"
      ],
      "metadata": {
        "id": "p_UVHwSwwbaa"
      }
    },
    {
      "cell_type": "code",
      "source": [
        "numbers = [3, 4, 6, 8, 0, 5, 7]\n",
        "\n",
        "print(\"numbers[:6:2] -->\", numbers[:6:2])  # Срез от начала до элемента с индексом 6 с шагом 2"
      ],
      "metadata": {
        "colab": {
          "base_uri": "https://localhost:8080/"
        },
        "id": "xEfoFIgdwbK1",
        "outputId": "9894df74-655a-4e1d-e5aa-65469616b9a3"
      },
      "execution_count": null,
      "outputs": [
        {
          "output_type": "stream",
          "name": "stdout",
          "text": [
            "numbers[:6:2] --> [3, 6, 0]\n"
          ]
        }
      ]
    },
    {
      "cell_type": "markdown",
      "source": [
        "### Задание"
      ],
      "metadata": {
        "id": "1bOostXly_YR"
      }
    },
    {
      "cell_type": "code",
      "source": [
        "numbers = [3, 4, 6, 8, 0, 5, 7]\n",
        "# TODO: Использовав операцию среза, получите новый список без первого и последнего элементов исходного\n",
        "..."
      ],
      "metadata": {
        "id": "_oXPlmOzzCQX"
      },
      "execution_count": null,
      "outputs": []
    },
    {
      "cell_type": "markdown",
      "source": [
        "### Задание"
      ],
      "metadata": {
        "id": "7E7L3ziuzgTT"
      }
    },
    {
      "cell_type": "code",
      "source": [
        "numbers = [3, 4, 6, 8, 0, 5, 7]\n",
        "# TODO: Использовав операцию среза, получите новый список из первой половины исходного\n",
        "# Пояснение: если количество нечетное, берем меньшую половину(при длине 5, берем первые 2)\n",
        "..."
      ],
      "metadata": {
        "id": "JZLI0-ckzjJG"
      },
      "execution_count": null,
      "outputs": []
    },
    {
      "cell_type": "markdown",
      "source": [
        "## Конкатенация и мультипликация"
      ],
      "metadata": {
        "id": "kXuBjXmOw-8s"
      }
    },
    {
      "cell_type": "markdown",
      "source": [
        "Списки можно складывать, используя операцию + и дублировать, используя операцию *. Все как со строками"
      ],
      "metadata": {
        "id": "XhsI3siDxGsS"
      }
    },
    {
      "cell_type": "code",
      "source": [
        "names =  [\"Иван\", \"Алексей\", \"Анна\", \"Петр\"]\n",
        "salaries = [54000, 67500, 45600]\n",
        "\n",
        "common_list = names + salaries\n",
        "print(f\"common_list = {common_list}\")\n",
        "\n",
        "many_names = names * 3\n",
        "print(f\"many_names = {many_names}\")"
      ],
      "metadata": {
        "colab": {
          "base_uri": "https://localhost:8080/"
        },
        "id": "WatJ1J3Bn4zK",
        "outputId": "fa767a9a-3eec-4058-eab8-1137a37814b3"
      },
      "execution_count": null,
      "outputs": [
        {
          "output_type": "stream",
          "name": "stdout",
          "text": [
            "common_list = ['Иван', 'Алексей', 'Анна', 'Петр', 54000, 67500, 45600]\n",
            "many_names = ['Иван', 'Алексей', 'Анна', 'Петр', 'Иван', 'Алексей', 'Анна', 'Петр', 'Иван', 'Алексей', 'Анна', 'Петр']\n"
          ]
        }
      ]
    },
    {
      "cell_type": "markdown",
      "source": [
        "## Операция вхождения in"
      ],
      "metadata": {
        "id": "oyc8JOFH1euD"
      }
    },
    {
      "cell_type": "markdown",
      "source": [
        "Операция in отлично подходит, если вы хотите проверить наличие определенного элемента в списке"
      ],
      "metadata": {
        "id": "MSmSUvAV1k9p"
      }
    },
    {
      "cell_type": "code",
      "source": [
        "names =  [\"Иван\", \"Алексей\", \"Анна\", \"Петр\"]\n",
        "print(\"Анна\" in names) # Анна есть в списке\n",
        "print(\"Ольга\" in names) # Ольги нет в списке"
      ],
      "metadata": {
        "colab": {
          "base_uri": "https://localhost:8080/"
        },
        "id": "k62NWhK71kSv",
        "outputId": "f3860996-6a5f-4ce8-8ea0-41bbbd367b43"
      },
      "execution_count": null,
      "outputs": [
        {
          "output_type": "stream",
          "name": "stdout",
          "text": [
            "True\n",
            "False\n"
          ]
        }
      ]
    },
    {
      "cell_type": "markdown",
      "source": [
        "### Задание"
      ],
      "metadata": {
        "id": "Mj_auMru2Imn"
      }
    },
    {
      "cell_type": "code",
      "source": [
        "fruits = [\"яблоко\", \"банан\", \"апельсин\", \"арбуз\", \"киви\"]\n",
        "fruit1 = ...\n",
        "fruit2 = ...\n",
        "# TODO: проверьте, есть ли в списке fruits фрукты fruit1 и fruit2\n",
        "#  если есть, выведите \"ДА\", или \"НЕТ\" в случае отсутствия любого.\n",
        "..."
      ],
      "metadata": {
        "id": "-MmWyavo2SC7"
      },
      "execution_count": null,
      "outputs": []
    },
    {
      "cell_type": "markdown",
      "source": [
        "## Методы списков"
      ],
      "metadata": {
        "id": "ZNgypMQF2_gO"
      }
    },
    {
      "cell_type": "markdown",
      "source": [
        "Большинство операций со списками выполняются с помощью методов.\n",
        "\n",
        "Полный список методов можно найти, например, [тут](https://pythonworld.ru/tipy-dannyx-v-python/spiski-list-funkcii-i-metody-spiskov.html) или [тут](https://letpy.com/handbook/list-methods/)."
      ],
      "metadata": {
        "id": "lKcbb-6I3EjP"
      }
    },
    {
      "cell_type": "markdown",
      "source": [
        "Метод .append() - позволяет добавить новое значение в конец списка"
      ],
      "metadata": {
        "id": "2-DgB6Oi4mpc"
      }
    },
    {
      "cell_type": "code",
      "source": [
        "names =  [\"Иван\", \"Алексей\", \"Анна\", \"Петр\"]\n",
        "print(\"До добавления \\t \", names)\n",
        "names.append(\"Ольга\")\n",
        "print(\"После добавления \", names)\n"
      ],
      "metadata": {
        "colab": {
          "base_uri": "https://localhost:8080/"
        },
        "id": "wybnUBRk4hJ9",
        "outputId": "88d31ac9-275d-4213-8b47-7877bc9d72d9"
      },
      "execution_count": null,
      "outputs": [
        {
          "output_type": "stream",
          "name": "stdout",
          "text": [
            "До добавления \t  ['Иван', 'Алексей', 'Анна', 'Петр']\n",
            "После добавления  ['Иван', 'Алексей', 'Анна', 'Петр', 'Ольга']\n"
          ]
        }
      ]
    }
  ]
}